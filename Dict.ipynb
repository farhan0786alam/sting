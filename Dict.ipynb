{
 "cells": [
  {
   "cell_type": "markdown",
   "id": "3de72a7a",
   "metadata": {},
   "source": [
    "## Dict---> {key:value}\n",
    "- dict is a collection of key value pair\n",
    "- dict is ordered\n",
    "- dict is unindexed\n",
    "- dict is mutable"
   ]
  },
  {
   "cell_type": "code",
   "execution_count": 1,
   "id": "947baf3b",
   "metadata": {},
   "outputs": [
    {
     "name": "stdout",
     "output_type": "stream",
     "text": [
      "{'a': 1, 'b': 2, 'c': 3}\n"
     ]
    }
   ],
   "source": [
    "x = {\n",
    "    'a':1,\n",
    "    'b':2,\n",
    "    'c':3\n",
    "}\n",
    "print(x)"
   ]
  },
  {
   "cell_type": "code",
   "execution_count": 2,
   "id": "8701432f",
   "metadata": {},
   "outputs": [
    {
     "name": "stdout",
     "output_type": "stream",
     "text": [
      "2\n"
     ]
    }
   ],
   "source": [
    "x = {\n",
    "    'a':1,\n",
    "    'b':2,\n",
    "    'c':3\n",
    "}\n",
    "print(x['b'])"
   ]
  },
  {
   "cell_type": "code",
   "execution_count": 3,
   "id": "8bcd091e",
   "metadata": {},
   "outputs": [
    {
     "name": "stdout",
     "output_type": "stream",
     "text": [
      "{'a': 1, 'b': 28, 'c': 3}\n"
     ]
    }
   ],
   "source": [
    "x = {\n",
    "    'a':1,\n",
    "    'b':2,\n",
    "    'c':3\n",
    "}\n",
    "x['b'] = 28\n",
    "print(x)"
   ]
  },
  {
   "cell_type": "code",
   "execution_count": 8,
   "id": "82b5cc7a",
   "metadata": {},
   "outputs": [
    {
     "name": "stdout",
     "output_type": "stream",
     "text": [
      "3\n",
      "key not found\n"
     ]
    }
   ],
   "source": [
    "x = {\n",
    "    'a':1,\n",
    "    'b':2,\n",
    "    'c':3\n",
    "}\n",
    "print(x['c'])\n",
    "# print(x['d'])\n",
    "# print(x.get('c'))\n",
    "print(x.get('d','key not found'))"
   ]
  },
  {
   "cell_type": "code",
   "execution_count": 10,
   "id": "3708166f",
   "metadata": {},
   "outputs": [
    {
     "name": "stdout",
     "output_type": "stream",
     "text": [
      "{'a': 1, 'b': 2, 'c': 3, 'd': 29}\n"
     ]
    }
   ],
   "source": [
    "x = {\n",
    "    'a':1,\n",
    "    'b':2,\n",
    "    'c':3\n",
    "}\n",
    "# x['c'] =28\n",
    "x['d'] = 29\n",
    "print(x)"
   ]
  },
  {
   "cell_type": "code",
   "execution_count": 11,
   "id": "a324515f",
   "metadata": {},
   "outputs": [
    {
     "name": "stdout",
     "output_type": "stream",
     "text": [
      "{'a': 1, 'b': 2, 'c': 3, 56: 78, 6.7: 19}\n"
     ]
    }
   ],
   "source": [
    "x = {\n",
    "    'a':1,\n",
    "    'b':2,\n",
    "    'c':3,\n",
    "    56 :78,\n",
    "    6.7:19\n",
    "}\n",
    "print(x)\n"
   ]
  },
  {
   "cell_type": "code",
   "execution_count": 13,
   "id": "a2bd26a4",
   "metadata": {},
   "outputs": [
    {
     "name": "stdout",
     "output_type": "stream",
     "text": [
      "{'a': 100, 'b': 100, 'c': 3}\n"
     ]
    }
   ],
   "source": [
    "x = {\n",
    "    'a':1,\n",
    "    'b':100,\n",
    "    'c':3,\n",
    "    'a':100\n",
    "}\n",
    "print(x)"
   ]
  },
  {
   "cell_type": "code",
   "execution_count": 15,
   "id": "d0a2581c",
   "metadata": {},
   "outputs": [
    {
     "name": "stdout",
     "output_type": "stream",
     "text": [
      "{'name': ['sohan', 'mohan', 'rohan', 'ram'], 'age': (34, 56, 67), 'marks': {56, 5, 23}}\n"
     ]
    }
   ],
   "source": [
    "x = {\n",
    "    'name'  : ['sohan','mohan','rohan'],\n",
    "    'age'   : (34,56,67),\n",
    "    'marks' : {23,5,56}\n",
    "}\n",
    "x['name'].append('ram')\n",
    "\n",
    "print(x)"
   ]
  },
  {
   "cell_type": "code",
   "execution_count": 17,
   "id": "44a40d71",
   "metadata": {},
   "outputs": [
    {
     "name": "stdout",
     "output_type": "stream",
     "text": [
      "{'name': ['sohan', 'mohan', 'rohan'], 'age': (34, 56, 67), 'marks': {56, 5, 23}}\n"
     ]
    }
   ],
   "source": [
    "x = {\n",
    "    'name'  : ['sohan','mohan','rohan'],\n",
    "    'age'   : (34,56,67),\n",
    "    'marks' : {23,5,56},\n",
    "\n",
    "}\n",
    "\n",
    "print(x)"
   ]
  },
  {
   "cell_type": "code",
   "execution_count": 18,
   "id": "efd07785",
   "metadata": {},
   "outputs": [
    {
     "name": "stdout",
     "output_type": "stream",
     "text": [
      "dict_keys(['name', 'age', 'marks'])\n",
      "dict_values([['sohan', 'mohan', 'rohan'], (34, 56, 67), {56, 5, 23}])\n",
      "dict_items([('name', ['sohan', 'mohan', 'rohan']), ('age', (34, 56, 67)), ('marks', {56, 5, 23})])\n"
     ]
    }
   ],
   "source": [
    "print(x.keys())\n",
    "print(x.values())\n",
    "print(x.items())"
   ]
  },
  {
   "cell_type": "code",
   "execution_count": 21,
   "id": "24186c70",
   "metadata": {},
   "outputs": [
    {
     "name": "stdout",
     "output_type": "stream",
     "text": [
      "abhinav --- 20 --- 9.9\n"
     ]
    }
   ],
   "source": [
    "x = {\n",
    "    'name':'abhinav',\n",
    "    'age':20,\n",
    "    'marks':9.9\n",
    "}\n",
    "print(x['name'],\"---\",x['age'],\"---\",x['marks'])"
   ]
  },
  {
   "cell_type": "code",
   "execution_count": 27,
   "id": "e73d8a96",
   "metadata": {},
   "outputs": [
    {
     "name": "stdout",
     "output_type": "stream",
     "text": [
      "dict_items([('a', 1), ('b', 2), ('c', 2)])\n",
      "present\n"
     ]
    }
   ],
   "source": [
    "x = {\n",
    "    'a':1,\n",
    "    'b':2,\n",
    "    'c':2\n",
    "}\n",
    "print(x.items())\n",
    "# if 1 in x:\n",
    "#     print(\"present\")\n",
    "# else:\n",
    "#     print(\"not present\")\n",
    "    \n",
    "# if 1 in x.values():\n",
    "#     print(\"present\")\n",
    "# else:\n",
    "#     print(\"not present\")\n",
    "    \n",
    "\n",
    "if ('a',1) in x.items():\n",
    "    print(\"present\")\n",
    "else:\n",
    "    print(\"not present\")"
   ]
  },
  {
   "cell_type": "code",
   "execution_count": 33,
   "id": "cfa0f8b2",
   "metadata": {},
   "outputs": [
    {
     "name": "stdout",
     "output_type": "stream",
     "text": [
      "{'a': 1}\n",
      "('c', 3)\n",
      "2\n"
     ]
    }
   ],
   "source": [
    "x = {\n",
    "    \n",
    "    'a':1,\n",
    "    'b':2,\n",
    "    'c':3\n",
    "}\n",
    "\n",
    "# del x['a']\n",
    "g = x.pop('b')\n",
    "z = x.popitem()\n",
    "x.cl\n",
    "print(x)\n",
    "print(z)\n",
    "print(g)"
   ]
  },
  {
   "cell_type": "code",
   "execution_count": null,
   "id": "2d76513a",
   "metadata": {},
   "outputs": [],
   "source": []
  }
 ],
 "metadata": {
  "kernelspec": {
   "display_name": "Python 3 (ipykernel)",
   "language": "python",
   "name": "python3"
  },
  "language_info": {
   "codemirror_mode": {
    "name": "ipython",
    "version": 3
   },
   "file_extension": ".py",
   "mimetype": "text/x-python",
   "name": "python",
   "nbconvert_exporter": "python",
   "pygments_lexer": "ipython3",
   "version": "3.10.9"
  }
 },
 "nbformat": 4,
 "nbformat_minor": 5
}
